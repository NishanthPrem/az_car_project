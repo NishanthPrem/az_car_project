{
 "cells": [
  {
   "cell_type": "markdown",
   "metadata": {
    "application/vnd.databricks.v1+cell": {
     "cellMetadata": {},
     "inputWidgets": {},
     "nuid": "d71d298c-eefa-4839-a0c2-a2d7225dbb58",
     "showTitle": false,
     "tableResultSettingsMap": {},
     "title": ""
    }
   },
   "source": [
    "# Importing Libraries"
   ]
  },
  {
   "cell_type": "code",
   "execution_count": 0,
   "metadata": {
    "application/vnd.databricks.v1+cell": {
     "cellMetadata": {
      "byteLimit": 2048000,
      "rowLimit": 10000
     },
     "inputWidgets": {},
     "nuid": "01eae501-79b2-4004-ac34-f6bfaa3728eb",
     "showTitle": false,
     "tableResultSettingsMap": {},
     "title": ""
    }
   },
   "outputs": [],
   "source": [
    "from pyspark.sql.functions import *"
   ]
  },
  {
   "cell_type": "markdown",
   "metadata": {
    "application/vnd.databricks.v1+cell": {
     "cellMetadata": {},
     "inputWidgets": {},
     "nuid": "27cae2b9-ed13-459a-a85f-7d8f11104173",
     "showTitle": false,
     "tableResultSettingsMap": {},
     "title": ""
    }
   },
   "source": [
    "# Read Data from Bronze Container"
   ]
  },
  {
   "cell_type": "code",
   "execution_count": 0,
   "metadata": {
    "application/vnd.databricks.v1+cell": {
     "cellMetadata": {
      "byteLimit": 2048000,
      "rowLimit": 10000
     },
     "inputWidgets": {},
     "nuid": "ea164303-e1e3-4533-a81e-24dfb3d92c06",
     "showTitle": false,
     "tableResultSettingsMap": {},
     "title": ""
    }
   },
   "outputs": [],
   "source": [
    "df = spark.read.format(\"parquet\").option(\"inferSchema\", \"true\").load(\"abfss://bronze@nishcarsdatalake.dfs.core.windows.net/raw_data\")"
   ]
  },
  {
   "cell_type": "markdown",
   "metadata": {
    "application/vnd.databricks.v1+cell": {
     "cellMetadata": {},
     "inputWidgets": {},
     "nuid": "9cb6ae45-d85e-48e0-bc5f-0e97ac498fcc",
     "showTitle": false,
     "tableResultSettingsMap": {},
     "title": ""
    }
   },
   "source": [
    "# Data Transformation"
   ]
  },
  {
   "cell_type": "code",
   "execution_count": 0,
   "metadata": {
    "application/vnd.databricks.v1+cell": {
     "cellMetadata": {
      "byteLimit": 2048000,
      "rowLimit": 10000
     },
     "inputWidgets": {},
     "nuid": "4e68aab9-38ac-42a0-909f-eb8ffccaec12",
     "showTitle": false,
     "tableResultSettingsMap": {},
     "title": ""
    }
   },
   "outputs": [],
   "source": [
    "df = df.withColumn(\"model_category\", split(col(\"Model_ID\"), \"-\")[0])"
   ]
  },
  {
   "cell_type": "code",
   "execution_count": 0,
   "metadata": {
    "application/vnd.databricks.v1+cell": {
     "cellMetadata": {
      "byteLimit": 2048000,
      "rowLimit": 10000
     },
     "inputWidgets": {},
     "nuid": "2bba9266-40a2-47c6-ba1c-7d0d357e5960",
     "showTitle": false,
     "tableResultSettingsMap": {},
     "title": ""
    }
   },
   "outputs": [],
   "source": [
    "df = df.withColumn(\"revenue_per_unit\", col(\"Revenue\")/col(\"Units_Sold\"))"
   ]
  },
  {
   "cell_type": "code",
   "execution_count": 0,
   "metadata": {
    "application/vnd.databricks.v1+cell": {
     "cellMetadata": {
      "byteLimit": 2048000,
      "rowLimit": 10000
     },
     "inputWidgets": {},
     "nuid": "f86bb4ea-3e1e-43eb-8b02-73e90c9cb32a",
     "showTitle": false,
     "tableResultSettingsMap": {},
     "title": ""
    }
   },
   "outputs": [
    {
     "output_type": "display_data",
     "data": {
      "text/html": [
       "<style scoped>\n",
       "  .table-result-container {\n",
       "    max-height: 300px;\n",
       "    overflow: auto;\n",
       "  }\n",
       "  table, th, td {\n",
       "    border: 1px solid black;\n",
       "    border-collapse: collapse;\n",
       "  }\n",
       "  th, td {\n",
       "    padding: 5px;\n",
       "  }\n",
       "  th {\n",
       "    text-align: left;\n",
       "  }\n",
       "</style><div class='table-result-container'><table class='table-result'><thead style='background-color: white'><tr><th>Year</th><th>BranchName</th><th>TotaL_Units</th></tr></thead><tbody><tr><td>2017</td><td>e.GO Mobile Motors</td><td>15</td></tr><tr><td>2017</td><td>Hennessey Motors</td><td>2</td></tr><tr><td>2017</td><td>Heinkel Motors</td><td>12</td></tr><tr><td>2017</td><td>Healey Motors</td><td>13</td></tr><tr><td>2017</td><td>Gumpert Motors</td><td>14</td></tr><tr><td>2017</td><td>Glas Motors</td><td>18</td></tr><tr><td>2017</td><td>Ginetta Motors</td><td>16</td></tr><tr><td>2017</td><td>Gilbern Motors</td><td>21</td></tr><tr><td>2017</td><td>Geo Motors</td><td>13</td></tr><tr><td>2017</td><td>GTA Spano Motors</td><td>9</td></tr><tr><td>2017</td><td>GMC Motors</td><td>15</td></tr><tr><td>2017</td><td>GAZ Motors</td><td>10</td></tr><tr><td>2017</td><td>Freightliner Motors</td><td>15</td></tr><tr><td>2017</td><td>Ford do Brasil Motors</td><td>13</td></tr><tr><td>2017</td><td>Ford India Motors</td><td>11</td></tr><tr><td>2017</td><td>Ford Europe Motors</td><td>12</td></tr><tr><td>2017</td><td>Ford Australia Motors</td><td>12</td></tr><tr><td>2017</td><td>Ford America Motors</td><td>14</td></tr><tr><td>2017</td><td>Fisker, Karma Motors</td><td>9</td></tr><tr><td>2017</td><td>Fiat do Brasil Motors</td><td>13</td></tr><tr><td>2017</td><td>Fiat Motors</td><td>12</td></tr><tr><td>2017</td><td>Fiat India Motors</td><td>11</td></tr><tr><td>2017</td><td>Ferrari Motors</td><td>11</td></tr><tr><td>2017</td><td>Facel Vega Motors</td><td>3</td></tr><tr><td>2017</td><td>FSO Motors</td><td>16</td></tr><tr><td>2017</td><td>Elva Motors</td><td>10</td></tr><tr><td>2017</td><td>Eicher Polaris Motors</td><td>11</td></tr><tr><td>2017</td><td>Edsel Motors</td><td>10</td></tr><tr><td>2017</td><td>Donkervoort Motors</td><td>10</td></tr><tr><td>2017</td><td>Dodge Motors</td><td>16</td></tr><tr><td>2017</td><td>Delahaye Motors</td><td>14</td></tr><tr><td>2017</td><td>DeSoto Motors</td><td>14</td></tr><tr><td>2017</td><td>DeLorean Motors</td><td>19</td></tr><tr><td>2017</td><td>De Tomaso Motors</td><td>8</td></tr><tr><td>2017</td><td>Datsun Motors</td><td>17</td></tr><tr><td>2017</td><td>Daimler Motors</td><td>7</td></tr><tr><td>2017</td><td>Daihatsu Motors</td><td>21</td></tr><tr><td>2017</td><td>Daewoo, Saehan, Chevrolet Korea Motors</td><td>15</td></tr><tr><td>2017</td><td>Dacia Motors</td><td>13</td></tr><tr><td>2017</td><td>DAF Motors</td><td>19</td></tr><tr><td>2017</td><td>Cizeta-Moroder Motors</td><td>14</td></tr><tr><td>2017</td><td>Citroën Motors</td><td>14</td></tr><tr><td>2017</td><td>Chrysler Motors</td><td>12</td></tr><tr><td>2017</td><td>Chrysler Europe Motors</td><td>15</td></tr><tr><td>2017</td><td>Chevrolet Motors</td><td>12</td></tr><tr><td>2017</td><td>Chevrolet India Motors</td><td>16</td></tr><tr><td>2017</td><td>Checker Motors</td><td>10</td></tr><tr><td>2017</td><td>Caterham Motors</td><td>17</td></tr><tr><td>2017</td><td>Cadillac Motors</td><td>16</td></tr><tr><td>2017</td><td>Bytom Motors</td><td>5</td></tr><tr><td>2017</td><td>Buick Motors</td><td>15</td></tr><tr><td>2017</td><td>Bugatti Motors</td><td>12</td></tr><tr><td>2017</td><td>British Leyland Motors</td><td>15</td></tr><tr><td>2017</td><td>Bristol Motors</td><td>23</td></tr><tr><td>2017</td><td>Borgward (including Goliath and Lloyd) Motors</td><td>16</td></tr><tr><td>2017</td><td>Bond Motors</td><td>14</td></tr><tr><td>2017</td><td>Bitter Motors</td><td>13</td></tr><tr><td>2017</td><td>Bentley Motors</td><td>14</td></tr><tr><td>2017</td><td>BMW Motors</td><td>23</td></tr><tr><td>2017</td><td>Auverland Motors</td><td>11</td></tr><tr><td>2017</td><td>Autobianchi Motors</td><td>7</td></tr><tr><td>2017</td><td>Auto-Union Motors</td><td>18</td></tr><tr><td>2017</td><td>Austin-Healey Motors</td><td>9</td></tr><tr><td>2017</td><td>Austin, Rover Motors</td><td>11</td></tr><tr><td>2017</td><td>Audi Motors</td><td>12</td></tr><tr><td>2017</td><td>Aston Martin Motors</td><td>23</td></tr><tr><td>2017</td><td>Asia Motors Motors</td><td>20</td></tr><tr><td>2017</td><td>Artega Motors</td><td>14</td></tr><tr><td>2017</td><td>Ariel Motors</td><td>21</td></tr><tr><td>2017</td><td>Anadol Motors</td><td>19</td></tr><tr><td>2017</td><td>Alvis Motors</td><td>17</td></tr><tr><td>2017</td><td>Alpine Motors</td><td>24</td></tr><tr><td>2017</td><td>Alfa Romeo Motors</td><td>14</td></tr><tr><td>2017</td><td>Aixam-Mega (including Arola) Motors</td><td>15</td></tr><tr><td>2017</td><td>Acura Motors</td><td>23</td></tr><tr><td>2017</td><td>ARO Motors</td><td>11</td></tr><tr><td>2017</td><td>AMC, Eagle Motors</td><td>18</td></tr><tr><td>2017</td><td>AC Cars Motors</td><td>19</td></tr><tr><td>2018</td><td>Zion Automobils</td><td>3</td></tr><tr><td>2018</td><td>Zastava Motors</td><td>3</td></tr><tr><td>2018</td><td>ZIL Motors</td><td>1</td></tr><tr><td>2018</td><td>Wolseley  Motors</td><td>1</td></tr><tr><td>2018</td><td>Westfield Motors</td><td>2</td></tr><tr><td>2018</td><td>Volvo Motors</td><td>2</td></tr><tr><td>2018</td><td>Volkswagen do Brasil Motors</td><td>2</td></tr><tr><td>2018</td><td>Volkswagen South Africa Motors</td><td>2</td></tr><tr><td>2018</td><td>Volkswagen Motors</td><td>2</td></tr><tr><td>2018</td><td>Vauxhall Motors</td><td>3</td></tr><tr><td>2018</td><td>UAZ Motors</td><td>3</td></tr><tr><td>2018</td><td>Turner Motors</td><td>2</td></tr><tr><td>2018</td><td>Toyota Motors</td><td>1</td></tr><tr><td>2018</td><td>Tornado Motors</td><td>1</td></tr><tr><td>2018</td><td>Tesla Motors</td><td>3</td></tr><tr><td>2018</td><td>Tazzari Motors</td><td>2</td></tr><tr><td>2018</td><td>Tatra Motors</td><td>3</td></tr><tr><td>2018</td><td>Tata Motors</td><td>2</td></tr><tr><td>2018</td><td>Sunbeam Motors</td><td>3</td></tr><tr><td>2018</td><td>Standard-Triumph Motors</td><td>1</td></tr><tr><td>2018</td><td>Standard  Motors</td><td>2</td></tr><tr><td>2018</td><td>Spyker Motors</td><td>2</td></tr><tr><td>2018</td><td>Singer Motors</td><td>2</td></tr><tr><td>2018</td><td>Simca do Brasil Motors</td><td>2</td></tr><tr><td>2018</td><td>Simca Motors</td><td>3</td></tr><tr><td>2018</td><td>Shelby SuperCars Motors</td><td>2</td></tr><tr><td>2018</td><td>Seat Motors</td><td>1</td></tr><tr><td>2018</td><td>Scion Motors</td><td>1</td></tr><tr><td>2018</td><td>Saturn Motors</td><td>2</td></tr><tr><td>2018</td><td>Santana Motors</td><td>3</td></tr><tr><td>2018</td><td>Santa Matilde Motors</td><td>2</td></tr><tr><td>2018</td><td>Samsung Motors</td><td>2</td></tr><tr><td>2018</td><td>Saleen Motors</td><td>2</td></tr><tr><td>2018</td><td>Saab Motors</td><td>1</td></tr><tr><td>2018</td><td>SAIC Motor Motors</td><td>2</td></tr><tr><td>2018</td><td>Riley  Motors</td><td>1</td></tr><tr><td>2018</td><td>Ramani Motors</td><td>1</td></tr><tr><td>2018</td><td>Piaggio Motors</td><td>2</td></tr><tr><td>2018</td><td>Peugeot Motors</td><td>16</td></tr><tr><td>2018</td><td>Perodua Motors</td><td>15</td></tr><tr><td>2018</td><td>Peel Motors</td><td>10</td></tr><tr><td>2018</td><td>Panther Motors</td><td>9</td></tr><tr><td>2018</td><td>Panoz Motors</td><td>7</td></tr><tr><td>2018</td><td>Panhard Motors</td><td>14</td></tr><tr><td>2018</td><td>Pagani Motors</td><td>9</td></tr><tr><td>2018</td><td>Packard Motors</td><td>19</td></tr><tr><td>2018</td><td>PGO Motors</td><td>6</td></tr><tr><td>2018</td><td>Opel Motors</td><td>16</td></tr><tr><td>2018</td><td>Oltcit Motors</td><td>8</td></tr><tr><td>2018</td><td>Oldsmobile Motors</td><td>12</td></tr><tr><td>2018</td><td>Noble Motors</td><td>17</td></tr><tr><td>2018</td><td>Nissan Motors</td><td>9</td></tr><tr><td>2018</td><td>Nissan India Motors</td><td>14</td></tr><tr><td>2018</td><td>Naza Motors</td><td>18</td></tr><tr><td>2018</td><td>Nash Motors</td><td>11</td></tr><tr><td>2018</td><td>NSU Motors</td><td>14</td></tr><tr><td>2018</td><td>Moskwitch Motors</td><td>11</td></tr><tr><td>2018</td><td>Morgan Motors</td><td>5</td></tr><tr><td>2018</td><td>Monteverdi Motors</td><td>9</td></tr><tr><td>2018</td><td>Monica Motors</td><td>11</td></tr><tr><td>2018</td><td>Mitsubishi Motors</td><td>13</td></tr><tr><td>2018</td><td>Mini Motors</td><td>14</td></tr><tr><td>2018</td><td>Micro Motors</td><td>17</td></tr><tr><td>2018</td><td>Mia Motors</td><td>12</td></tr><tr><td>2018</td><td>Messerschmitt Motors</td><td>10</td></tr><tr><td>2018</td><td>Merkur Motors</td><td>16</td></tr><tr><td>2018</td><td>Mercury Motors</td><td>10</td></tr><tr><td>2018</td><td>Mercedes-Benz (including Maybach) Motors</td><td>13</td></tr><tr><td>2018</td><td>McLaren Motors</td><td>15</td></tr><tr><td>2018</td><td>Mazzanti Motors</td><td>14</td></tr><tr><td>2018</td><td>Mazda Motors</td><td>13</td></tr><tr><td>2018</td><td>Maybach  Motors</td><td>1</td></tr><tr><td>2018</td><td>Matra (including Deutsch-Bonnet, René Bonnet) Motors</td><td>17</td></tr><tr><td>2018</td><td>Mastretta Motors</td><td>19</td></tr><tr><td>2018</td><td>Maserati Motors</td><td>13</td></tr><tr><td>2018</td><td>Maruti Motors</td><td>20</td></tr><tr><td>2018</td><td>Marlin Motors</td><td>12</td></tr><tr><td>2018</td><td>Marcos Motors</td><td>15</td></tr><tr><td>2018</td><td>Mahindra Motors</td><td>10</td></tr><tr><td>2018</td><td>MG  Motors</td><td>3</td></tr><tr><td>2018</td><td>Lynx Motors</td><td>7</td></tr><tr><td>2018</td><td>LuAZ Motors</td><td>15</td></tr><tr><td>2018</td><td>Lotus Motors</td><td>10</td></tr><tr><td>2018</td><td>Lincoln Motors</td><td>11</td></tr><tr><td>2018</td><td>Ligier Motors</td><td>4</td></tr><tr><td>2018</td><td>Lexus Motors</td><td>14</td></tr><tr><td>2018</td><td>Land Rover Motors</td><td>11</td></tr><tr><td>2018</td><td>Lancia Motors</td><td>14</td></tr><tr><td>2018</td><td>Lamborghini Motors</td><td>20</td></tr><tr><td>2018</td><td>Lagonda  Motors</td><td>3</td></tr><tr><td>2018</td><td>Lada Motors</td><td>9</td></tr><tr><td>2018</td><td>LTI Motors</td><td>13</td></tr><tr><td>2018</td><td>Koenigsegg Motors</td><td>16</td></tr><tr><td>2018</td><td>Kindel Building</td><td>3</td></tr><tr><td>2018</td><td>Kia Motors</td><td>11</td></tr><tr><td>2018</td><td>KTM Motors</td><td>11</td></tr><tr><td>2018</td><td>Jones Motor Company</td><td>2</td></tr><tr><td>2018</td><td>Jensen Motors</td><td>16</td></tr><tr><td>2018</td><td>Jennings Ford Automobile Dealership</td><td>3</td></tr><tr><td>2018</td><td>Jeep Motors</td><td>18</td></tr><tr><td>2018</td><td>Jaguar Motors</td><td>15</td></tr><tr><td>2018</td><td>JPX Motors</td><td>13</td></tr><tr><td>2018</td><td>Izh  Motors</td><td>3</td></tr><tr><td>2018</td><td>Iveco Motors</td><td>10</td></tr><tr><td>2018</td><td>Isuzu Motors</td><td>15</td></tr><tr><td>2018</td><td>Isotta Fraschini Motors</td><td>14</td></tr><tr><td>2018</td><td>Iso Motors</td><td>16</td></tr><tr><td>2018</td><td>Isdera Motors</td><td>9</td></tr><tr><td>2018</td><td>Invicta Motors</td><td>16</td></tr><tr><td>2018</td><td>Innocenti Motors</td><td>16</td></tr><tr><td>2018</td><td>Infiniti Motors</td><td>9</td></tr><tr><td>2018</td><td>IFA (including Trabant, Wartburg, Barkas) Motors</td><td>13</td></tr><tr><td>2018</td><td>Hyundai Motors</td><td>13</td></tr><tr><td>2018</td><td>Hupmobile Building</td><td>2</td></tr><tr><td>2018</td><td>Hummer Motors</td><td>14</td></tr><tr><td>2018</td><td>Humber Motors</td><td>10</td></tr><tr><td>2018</td><td>Hudson Motors</td><td>14</td></tr><tr><td>2018</td><td>Howard Motor Company Building</td><td>2</td></tr><tr><td>2018</td><td>Horch Motors</td><td>1</td></tr><tr><td>2018</td><td>Honda Motors</td><td>14</td></tr><tr><td>2018</td><td>Honda India Motors</td><td>15</td></tr><tr><td>2018</td><td>Holden Motors</td><td>15</td></tr><tr><td>2018</td><td>Hindustan Motors</td><td>9</td></tr><tr><td>2018</td><td>Hillman Motors</td><td>11</td></tr><tr><td>2018</td><td>Herald Motors</td><td>3</td></tr><tr><td>2018</td><td>Hennessey Motors</td><td>6</td></tr><tr><td>2018</td><td>Deccan Motors</td><td>2</td></tr><tr><td>2018</td><td>Das Motors</td><td>1</td></tr><tr><td>2018</td><td>Colman Automotive Building</td><td>2</td></tr><tr><td>2018</td><td>Cass Motor Sales</td><td>3</td></tr><tr><td>2018</td><td>Casa de cadillac</td><td>3</td></tr><tr><td>2018</td><td>Cadillac Automobile Company Building</td><td>2</td></tr><tr><td>2018</td><td>Buick Automobile Company Building</td><td>1</td></tr><tr><td>2018</td><td>British Leyland Motors</td><td>2</td></tr><tr><td>2018</td><td>Bristol Motors</td><td>2</td></tr><tr><td>2018</td><td>Borgward (including Goliath and Lloyd) Motors</td><td>3</td></tr><tr><td>2018</td><td>Bohn Motor Company Automobile Dealership</td><td>1</td></tr><tr><td>2018</td><td>Blankinship Motor Company Building</td><td>3</td></tr><tr><td>2018</td><td>Bitter Motors</td><td>1</td></tr><tr><td>2018</td><td>Bentley Motors</td><td>2</td></tr><tr><td>2018</td><td>BMW Motors</td><td>1</td></tr><tr><td>2018</td><td>Auverland Motors</td><td>1</td></tr><tr><td>2018</td><td>Autobianchi Motors</td><td>1</td></tr><tr><td>2018</td><td>Auto-Union Motors</td><td>3</td></tr><tr><td>2018</td><td>Audi Motors</td><td>3</td></tr><tr><td>2018</td><td>Atlantic Motor Company</td><td>2</td></tr><tr><td>2019</td><td>Zastava Motors</td><td>14</td></tr><tr><td>2019</td><td>ZIL Motors</td><td>14</td></tr><tr><td>2019</td><td>ZAZ Motors</td><td>13</td></tr><tr><td>2019</td><td>Wolseley  Motors</td><td>10</td></tr><tr><td>2019</td><td>Wiesmann Motors</td><td>11</td></tr><tr><td>2019</td><td>Westfield Motors</td><td>18</td></tr><tr><td>2019</td><td>Wanderer Motors</td><td>13</td></tr><tr><td>2019</td><td>Volvo Motors</td><td>14</td></tr><tr><td>2019</td><td>Volkswagen do Brasil Motors</td><td>18</td></tr><tr><td>2019</td><td>Volkswagen South Africa Motors</td><td>15</td></tr><tr><td>2019</td><td>Volkswagen Motors</td><td>18</td></tr><tr><td>2019</td><td>Venturi Motors</td><td>7</td></tr><tr><td>2019</td><td>Vauxhall Motors</td><td>14</td></tr><tr><td>2019</td><td>UAZ Motors</td><td>13</td></tr><tr><td>2019</td><td>Turner Motors</td><td>18</td></tr><tr><td>2019</td><td>Toyota Motors</td><td>14</td></tr><tr><td>2019</td><td>Toyota India Motors</td><td>15</td></tr><tr><td>2019</td><td>Tornado Motors</td><td>16</td></tr><tr><td>2019</td><td>Tesla Motors</td><td>18</td></tr><tr><td>2019</td><td>Tazzari Motors</td><td>21</td></tr><tr><td>2019</td><td>Tatra Motors</td><td>14</td></tr><tr><td>2019</td><td>Tata Motors</td><td>12</td></tr><tr><td>2019</td><td>Talbot  Motors</td><td>14</td></tr><tr><td>2019</td><td>TVR Motors</td><td>13</td></tr><tr><td>2019</td><td>Suzuki Motors</td><td>8</td></tr><tr><td>2019</td><td>Sunbeam Motors</td><td>12</td></tr><tr><td>2019</td><td>Subaru Motors</td><td>16</td></tr><tr><td>2019</td><td>Studebaker Motors</td><td>16</td></tr><tr><td>2019</td><td>Standard-Triumph Motors</td><td>15</td></tr><tr><td>2019</td><td>Standard  Motors</td><td>18</td></tr><tr><td>2019</td><td>SsangYong Motors</td><td>18</td></tr><tr><td>2019</td><td>Spyker Motors</td><td>19</td></tr><tr><td>2019</td><td>Smart Motors</td><td>16</td></tr><tr><td>2019</td><td>Skoda Motors</td><td>9</td></tr><tr><td>2019</td><td>Singer Motors</td><td>9</td></tr><tr><td>2019</td><td>Simca do Brasil Motors</td><td>16</td></tr><tr><td>2019</td><td>Simca Motors</td><td>14</td></tr><tr><td>2019</td><td>Shelby SuperCars Motors</td><td>10</td></tr><tr><td>2019</td><td>Seat Motors</td><td>18</td></tr><tr><td>2019</td><td>Scion Motors</td><td>18</td></tr><tr><td>2019</td><td>Saturn Motors</td><td>16</td></tr><tr><td>2019</td><td>Santana Motors</td><td>12</td></tr><tr><td>2019</td><td>Santa Matilde Motors</td><td>16</td></tr><tr><td>2019</td><td>San Motors</td><td>19</td></tr><tr><td>2019</td><td>Samsung Motors</td><td>11</td></tr><tr><td>2019</td><td>Saleen Motors</td><td>11</td></tr><tr><td>2019</td><td>Saab Motors</td><td>16</td></tr><tr><td>2019</td><td>SAIC Motor Motors</td><td>15</td></tr><tr><td>2019</td><td>Rolls-Royce Motors</td><td>11</td></tr><tr><td>2019</td><td>Rivian Motors</td><td>17</td></tr><tr><td>2019</td><td>Riley  Motors</td><td>11</td></tr><tr><td>2019</td><td>Renault Motors</td><td>11</td></tr><tr><td>2019</td><td>Reliant Motors</td><td>16</td></tr><tr><td>2019</td><td>Ranger Motors</td><td>11</td></tr><tr><td>2019</td><td>Ramani Motors</td><td>10</td></tr><tr><td>2019</td><td>Puma Motors</td><td>15</td></tr><tr><td>2019</td><td>Proton Motors</td><td>17</td></tr><tr><td>2019</td><td>Premier Motors</td><td>12</td></tr><tr><td>2019</td><td>Porsche Motors</td><td>7</td></tr><tr><td>2019</td><td>Pontiac, Asüna Motors</td><td>8</td></tr><tr><td>2019</td><td>Polestar Motors</td><td>19</td></tr><tr><td>2019</td><td>Plymouth Motors</td><td>17</td></tr><tr><td>2019</td><td>Piaggio Motors</td><td>12</td></tr><tr><td>2019</td><td>Morris  Motors</td><td>15</td></tr><tr><td>2019</td><td>Maybach  Motors</td><td>14</td></tr><tr><td>2019</td><td>MG  Motors</td><td>14</td></tr><tr><td>2019</td><td>Lagonda  Motors</td><td>16</td></tr><tr><td>2019</td><td>Izh  Motors</td><td>20</td></tr><tr><td>2019</td><td>Horch Motors</td><td>18</td></tr><tr><td>2019</td><td>Herald Motors</td><td>1</td></tr><tr><td>2019</td><td>Deccan Motors</td><td>15</td></tr><tr><td>2019</td><td>Das Motors</td><td>13</td></tr><tr><td>2019</td><td>DKW Motors</td><td>13</td></tr><tr><td>2019</td><td>Cizeta-Moroder Motors</td><td>3</td></tr><tr><td>2019</td><td>Citroën Motors</td><td>3</td></tr><tr><td>2019</td><td>Chrysler Motors</td><td>3</td></tr><tr><td>2019</td><td>Chrysler Europe Motors</td><td>2</td></tr><tr><td>2019</td><td>Cadillac Motors</td><td>2</td></tr><tr><td>2019</td><td>Bytom Motors</td><td>3</td></tr><tr><td>2019</td><td>Buick Motors</td><td>3</td></tr><tr><td>2019</td><td>Austin  Motors</td><td>13</td></tr><tr><td>2019</td><td>Audi Motors</td><td>14</td></tr><tr><td>2020</td><td>e.GO Mobile Motors</td><td>2</td></tr><tr><td>2020</td><td>Zion Automobils</td><td>8</td></tr><tr><td>2020</td><td>Plymouth Motors</td><td>3</td></tr><tr><td>2020</td><td>Piaggio Motors</td><td>1</td></tr><tr><td>2020</td><td>Peugeot Motors</td><td>1</td></tr><tr><td>2020</td><td>Perodua Motors</td><td>3</td></tr><tr><td>2020</td><td>Panther Motors</td><td>3</td></tr><tr><td>2020</td><td>Panoz Motors</td><td>1</td></tr><tr><td>2020</td><td>Panhard Motors</td><td>2</td></tr><tr><td>2020</td><td>Pagani Motors</td><td>1</td></tr><tr><td>2020</td><td>Packard Motors</td><td>2</td></tr><tr><td>2020</td><td>PGO Motors</td><td>2</td></tr><tr><td>2020</td><td>Opel Motors</td><td>3</td></tr><tr><td>2020</td><td>Oltcit Motors</td><td>2</td></tr><tr><td>2020</td><td>Noble Motors</td><td>1</td></tr><tr><td>2020</td><td>Nissan Motors</td><td>3</td></tr><tr><td>2020</td><td>Naza Motors</td><td>2</td></tr><tr><td>2020</td><td>NSU Motors</td><td>1</td></tr><tr><td>2020</td><td>Moskwitch Motors</td><td>2</td></tr><tr><td>2020</td><td>Morgan Motors</td><td>2</td></tr><tr><td>2020</td><td>Monteverdi Motors</td><td>3</td></tr><tr><td>2020</td><td>Monica Motors</td><td>2</td></tr><tr><td>2020</td><td>Mitsubishi Motors</td><td>2</td></tr><tr><td>2020</td><td>Mini Motors</td><td>3</td></tr><tr><td>2020</td><td>Micro Motors</td><td>2</td></tr><tr><td>2020</td><td>Mia Motors</td><td>1</td></tr><tr><td>2020</td><td>Mercury Motors</td><td>2</td></tr><tr><td>2020</td><td>Mercedes-Benz (including Maybach) Motors</td><td>3</td></tr><tr><td>2020</td><td>McLaren Motors</td><td>2</td></tr><tr><td>2020</td><td>Mazzanti Motors</td><td>1</td></tr><tr><td>2020</td><td>Mazda Motors</td><td>3</td></tr><tr><td>2020</td><td>Mastretta Motors</td><td>3</td></tr><tr><td>2020</td><td>Maruti Motors</td><td>1</td></tr><tr><td>2020</td><td>Marlin Motors</td><td>1</td></tr><tr><td>2020</td><td>Mahindra Motors</td><td>1</td></tr><tr><td>2020</td><td>Lynx Motors</td><td>3</td></tr><tr><td>2020</td><td>Lotus Motors</td><td>3</td></tr><tr><td>2020</td><td>Lincoln Motors</td><td>3</td></tr><tr><td>2020</td><td>Ligier Motors</td><td>2</td></tr><tr><td>2020</td><td>Lexus Motors</td><td>2</td></tr><tr><td>2020</td><td>Land Rover Motors</td><td>2</td></tr><tr><td>2020</td><td>Lancia Motors</td><td>2</td></tr><tr><td>2020</td><td>Lamborghini Motors</td><td>2</td></tr><tr><td>2020</td><td>Lada Motors</td><td>1</td></tr><tr><td>2020</td><td>Koenigsegg Motors</td><td>2</td></tr><tr><td>2020</td><td>Kindel Building</td><td>14</td></tr><tr><td>2020</td><td>Kia Motors</td><td>1</td></tr><tr><td>2020</td><td>KTM Motors</td><td>3</td></tr><tr><td>2020</td><td>Jones Motor Company</td><td>11</td></tr><tr><td>2020</td><td>Jensen Motors</td><td>1</td></tr><tr><td>2020</td><td>Jennings Ford Automobile Dealership</td><td>19</td></tr><tr><td>2020</td><td>Jeep Motors</td><td>1</td></tr><tr><td>2020</td><td>JPX Motors</td><td>1</td></tr><tr><td>2020</td><td>Iveco Motors</td><td>3</td></tr><tr><td>2020</td><td>Isuzu Motors</td><td>1</td></tr><tr><td>2020</td><td>Isotta Fraschini Motors</td><td>2</td></tr><tr><td>2020</td><td>Isdera Motors</td><td>3</td></tr><tr><td>2020</td><td>Invicta Motors</td><td>3</td></tr><tr><td>2020</td><td>Innocenti Motors</td><td>2</td></tr><tr><td>2020</td><td>IFA (including Trabant, Wartburg, Barkas) Motors</td><td>3</td></tr><tr><td>2020</td><td>Hupmobile Building</td><td>13</td></tr><tr><td>2020</td><td>Hummer Motors</td><td>3</td></tr><tr><td>2020</td><td>Humber Motors</td><td>1</td></tr><tr><td>2020</td><td>Hudson Motors</td><td>3</td></tr><tr><td>2020</td><td>Howard Motor Company Building</td><td>11</td></tr><tr><td>2020</td><td>Honda India Motors</td><td>1</td></tr><tr><td>2020</td><td>Holden Motors</td><td>1</td></tr><tr><td>2020</td><td>Hindustan Motors</td><td>3</td></tr><tr><td>2020</td><td>Hillman Motors</td><td>3</td></tr><tr><td>2020</td><td>Herald Motors</td><td>21</td></tr><tr><td>2020</td><td>Hennessey Motors</td><td>2</td></tr><tr><td>2020</td><td>Heinkel Motors</td><td>3</td></tr><tr><td>2020</td><td>H Street Playhouse</td><td>18</td></tr><tr><td>2020</td><td>Gumpert Motors</td><td>1</td></tr><tr><td>2020</td><td>Glas Motors</td><td>1</td></tr><tr><td>2020</td><td>Gilbern Motors</td><td>1</td></tr><tr><td>2020</td><td>Geo Motors</td><td>1</td></tr><tr><td>2020</td><td>GTA Spano Motors</td><td>2</td></tr><tr><td>2020</td><td>GAZ Motors</td><td>1</td></tr><tr><td>2020</td><td>Freightliner Motors</td><td>3</td></tr><tr><td>2020</td><td>Ford do Brasil Motors</td><td>3</td></tr><tr><td>2020</td><td>Ford Europe Motors</td><td>3</td></tr><tr><td>2020</td><td>Ford Australia Motors</td><td>2</td></tr><tr><td>2020</td><td>Ford America Motors</td><td>1</td></tr><tr><td>2020</td><td>Fisker, Karma Motors</td><td>3</td></tr><tr><td>2020</td><td>Fiat do Brasil Motors</td><td>1</td></tr><tr><td>2020</td><td>Ferrari Motors</td><td>2</td></tr><tr><td>2020</td><td>Facel Vega Motors</td><td>2</td></tr><tr><td>2020</td><td>FSO Motors</td><td>3</td></tr><tr><td>2020</td><td>Elva Motors</td><td>1</td></tr><tr><td>2020</td><td>Edsel Motors</td><td>1</td></tr><tr><td>2020</td><td>Donkervoort Motors</td><td>3</td></tr><tr><td>2020</td><td>Dodge Motors</td><td>1</td></tr><tr><td>2020</td><td>Delahaye Motors</td><td>1</td></tr><tr><td>2020</td><td>DeSoto Motors</td><td>1</td></tr><tr><td>2020</td><td>DeLorean Motors</td><td>3</td></tr><tr><td>2020</td><td>Datsun Motors</td><td>1</td></tr><tr><td>2020</td><td>Daimler Motors</td><td>3</td></tr><tr><td>2020</td><td>Daewoo, Saehan, Chevrolet Korea Motors</td><td>1</td></tr><tr><td>2020</td><td>Dacia Motors</td><td>2</td></tr><tr><td>2020</td><td>DAF Motors</td><td>3</td></tr><tr><td>2020</td><td>Colman Automotive Building</td><td>10</td></tr><tr><td>2020</td><td>Clemens Automobile Company Building</td><td>9</td></tr><tr><td>2020</td><td>Claremore Auto Dealership</td><td>9</td></tr><tr><td>2020</td><td>Cass Motor Sales</td><td>16</td></tr><tr><td>2020</td><td>Casa de cadillac</td><td>9</td></tr><tr><td>2020</td><td>Cadillac Automobile Company Building</td><td>17</td></tr><tr><td>2020</td><td>Buick Automobile Company Building</td><td>13</td></tr><tr><td>2020</td><td>Bohn Motor Company Automobile Dealership</td><td>17</td></tr><tr><td>2020</td><td>Blankinship Motor Company Building</td><td>14</td></tr><tr><td>2020</td><td>Atlantic Motor Company</td><td>13</td></tr><tr><td>2020</td><td>2008 NRHP-listed</td><td>16</td></tr></tbody></table></div>"
      ]
     },
     "metadata": {
      "application/vnd.databricks.v1+output": {
       "addedWidgets": {},
       "aggData": [],
       "aggError": "",
       "aggOverflow": false,
       "aggSchema": [],
       "aggSeriesLimitReached": false,
       "aggType": "",
       "arguments": {},
       "columnCustomDisplayInfos": {},
       "data": [
        [
         2017,
         "e.GO Mobile Motors",
         15
        ],
        [
         2017,
         "Hennessey Motors",
         2
        ],
        [
         2017,
         "Heinkel Motors",
         12
        ],
        [
         2017,
         "Healey Motors",
         13
        ],
        [
         2017,
         "Gumpert Motors",
         14
        ],
        [
         2017,
         "Glas Motors",
         18
        ],
        [
         2017,
         "Ginetta Motors",
         16
        ],
        [
         2017,
         "Gilbern Motors",
         21
        ],
        [
         2017,
         "Geo Motors",
         13
        ],
        [
         2017,
         "GTA Spano Motors",
         9
        ],
        [
         2017,
         "GMC Motors",
         15
        ],
        [
         2017,
         "GAZ Motors",
         10
        ],
        [
         2017,
         "Freightliner Motors",
         15
        ],
        [
         2017,
         "Ford do Brasil Motors",
         13
        ],
        [
         2017,
         "Ford India Motors",
         11
        ],
        [
         2017,
         "Ford Europe Motors",
         12
        ],
        [
         2017,
         "Ford Australia Motors",
         12
        ],
        [
         2017,
         "Ford America Motors",
         14
        ],
        [
         2017,
         "Fisker, Karma Motors",
         9
        ],
        [
         2017,
         "Fiat do Brasil Motors",
         13
        ],
        [
         2017,
         "Fiat Motors",
         12
        ],
        [
         2017,
         "Fiat India Motors",
         11
        ],
        [
         2017,
         "Ferrari Motors",
         11
        ],
        [
         2017,
         "Facel Vega Motors",
         3
        ],
        [
         2017,
         "FSO Motors",
         16
        ],
        [
         2017,
         "Elva Motors",
         10
        ],
        [
         2017,
         "Eicher Polaris Motors",
         11
        ],
        [
         2017,
         "Edsel Motors",
         10
        ],
        [
         2017,
         "Donkervoort Motors",
         10
        ],
        [
         2017,
         "Dodge Motors",
         16
        ],
        [
         2017,
         "Delahaye Motors",
         14
        ],
        [
         2017,
         "DeSoto Motors",
         14
        ],
        [
         2017,
         "DeLorean Motors",
         19
        ],
        [
         2017,
         "De Tomaso Motors",
         8
        ],
        [
         2017,
         "Datsun Motors",
         17
        ],
        [
         2017,
         "Daimler Motors",
         7
        ],
        [
         2017,
         "Daihatsu Motors",
         21
        ],
        [
         2017,
         "Daewoo, Saehan, Chevrolet Korea Motors",
         15
        ],
        [
         2017,
         "Dacia Motors",
         13
        ],
        [
         2017,
         "DAF Motors",
         19
        ],
        [
         2017,
         "Cizeta-Moroder Motors",
         14
        ],
        [
         2017,
         "Citroën Motors",
         14
        ],
        [
         2017,
         "Chrysler Motors",
         12
        ],
        [
         2017,
         "Chrysler Europe Motors",
         15
        ],
        [
         2017,
         "Chevrolet Motors",
         12
        ],
        [
         2017,
         "Chevrolet India Motors",
         16
        ],
        [
         2017,
         "Checker Motors",
         10
        ],
        [
         2017,
         "Caterham Motors",
         17
        ],
        [
         2017,
         "Cadillac Motors",
         16
        ],
        [
         2017,
         "Bytom Motors",
         5
        ],
        [
         2017,
         "Buick Motors",
         15
        ],
        [
         2017,
         "Bugatti Motors",
         12
        ],
        [
         2017,
         "British Leyland Motors",
         15
        ],
        [
         2017,
         "Bristol Motors",
         23
        ],
        [
         2017,
         "Borgward (including Goliath and Lloyd) Motors",
         16
        ],
        [
         2017,
         "Bond Motors",
         14
        ],
        [
         2017,
         "Bitter Motors",
         13
        ],
        [
         2017,
         "Bentley Motors",
         14
        ],
        [
         2017,
         "BMW Motors",
         23
        ],
        [
         2017,
         "Auverland Motors",
         11
        ],
        [
         2017,
         "Autobianchi Motors",
         7
        ],
        [
         2017,
         "Auto-Union Motors",
         18
        ],
        [
         2017,
         "Austin-Healey Motors",
         9
        ],
        [
         2017,
         "Austin, Rover Motors",
         11
        ],
        [
         2017,
         "Audi Motors",
         12
        ],
        [
         2017,
         "Aston Martin Motors",
         23
        ],
        [
         2017,
         "Asia Motors Motors",
         20
        ],
        [
         2017,
         "Artega Motors",
         14
        ],
        [
         2017,
         "Ariel Motors",
         21
        ],
        [
         2017,
         "Anadol Motors",
         19
        ],
        [
         2017,
         "Alvis Motors",
         17
        ],
        [
         2017,
         "Alpine Motors",
         24
        ],
        [
         2017,
         "Alfa Romeo Motors",
         14
        ],
        [
         2017,
         "Aixam-Mega (including Arola) Motors",
         15
        ],
        [
         2017,
         "Acura Motors",
         23
        ],
        [
         2017,
         "ARO Motors",
         11
        ],
        [
         2017,
         "AMC, Eagle Motors",
         18
        ],
        [
         2017,
         "AC Cars Motors",
         19
        ],
        [
         2018,
         "Zion Automobils",
         3
        ],
        [
         2018,
         "Zastava Motors",
         3
        ],
        [
         2018,
         "ZIL Motors",
         1
        ],
        [
         2018,
         "Wolseley  Motors",
         1
        ],
        [
         2018,
         "Westfield Motors",
         2
        ],
        [
         2018,
         "Volvo Motors",
         2
        ],
        [
         2018,
         "Volkswagen do Brasil Motors",
         2
        ],
        [
         2018,
         "Volkswagen South Africa Motors",
         2
        ],
        [
         2018,
         "Volkswagen Motors",
         2
        ],
        [
         2018,
         "Vauxhall Motors",
         3
        ],
        [
         2018,
         "UAZ Motors",
         3
        ],
        [
         2018,
         "Turner Motors",
         2
        ],
        [
         2018,
         "Toyota Motors",
         1
        ],
        [
         2018,
         "Tornado Motors",
         1
        ],
        [
         2018,
         "Tesla Motors",
         3
        ],
        [
         2018,
         "Tazzari Motors",
         2
        ],
        [
         2018,
         "Tatra Motors",
         3
        ],
        [
         2018,
         "Tata Motors",
         2
        ],
        [
         2018,
         "Sunbeam Motors",
         3
        ],
        [
         2018,
         "Standard-Triumph Motors",
         1
        ],
        [
         2018,
         "Standard  Motors",
         2
        ],
        [
         2018,
         "Spyker Motors",
         2
        ],
        [
         2018,
         "Singer Motors",
         2
        ],
        [
         2018,
         "Simca do Brasil Motors",
         2
        ],
        [
         2018,
         "Simca Motors",
         3
        ],
        [
         2018,
         "Shelby SuperCars Motors",
         2
        ],
        [
         2018,
         "Seat Motors",
         1
        ],
        [
         2018,
         "Scion Motors",
         1
        ],
        [
         2018,
         "Saturn Motors",
         2
        ],
        [
         2018,
         "Santana Motors",
         3
        ],
        [
         2018,
         "Santa Matilde Motors",
         2
        ],
        [
         2018,
         "Samsung Motors",
         2
        ],
        [
         2018,
         "Saleen Motors",
         2
        ],
        [
         2018,
         "Saab Motors",
         1
        ],
        [
         2018,
         "SAIC Motor Motors",
         2
        ],
        [
         2018,
         "Riley  Motors",
         1
        ],
        [
         2018,
         "Ramani Motors",
         1
        ],
        [
         2018,
         "Piaggio Motors",
         2
        ],
        [
         2018,
         "Peugeot Motors",
         16
        ],
        [
         2018,
         "Perodua Motors",
         15
        ],
        [
         2018,
         "Peel Motors",
         10
        ],
        [
         2018,
         "Panther Motors",
         9
        ],
        [
         2018,
         "Panoz Motors",
         7
        ],
        [
         2018,
         "Panhard Motors",
         14
        ],
        [
         2018,
         "Pagani Motors",
         9
        ],
        [
         2018,
         "Packard Motors",
         19
        ],
        [
         2018,
         "PGO Motors",
         6
        ],
        [
         2018,
         "Opel Motors",
         16
        ],
        [
         2018,
         "Oltcit Motors",
         8
        ],
        [
         2018,
         "Oldsmobile Motors",
         12
        ],
        [
         2018,
         "Noble Motors",
         17
        ],
        [
         2018,
         "Nissan Motors",
         9
        ],
        [
         2018,
         "Nissan India Motors",
         14
        ],
        [
         2018,
         "Naza Motors",
         18
        ],
        [
         2018,
         "Nash Motors",
         11
        ],
        [
         2018,
         "NSU Motors",
         14
        ],
        [
         2018,
         "Moskwitch Motors",
         11
        ],
        [
         2018,
         "Morgan Motors",
         5
        ],
        [
         2018,
         "Monteverdi Motors",
         9
        ],
        [
         2018,
         "Monica Motors",
         11
        ],
        [
         2018,
         "Mitsubishi Motors",
         13
        ],
        [
         2018,
         "Mini Motors",
         14
        ],
        [
         2018,
         "Micro Motors",
         17
        ],
        [
         2018,
         "Mia Motors",
         12
        ],
        [
         2018,
         "Messerschmitt Motors",
         10
        ],
        [
         2018,
         "Merkur Motors",
         16
        ],
        [
         2018,
         "Mercury Motors",
         10
        ],
        [
         2018,
         "Mercedes-Benz (including Maybach) Motors",
         13
        ],
        [
         2018,
         "McLaren Motors",
         15
        ],
        [
         2018,
         "Mazzanti Motors",
         14
        ],
        [
         2018,
         "Mazda Motors",
         13
        ],
        [
         2018,
         "Maybach  Motors",
         1
        ],
        [
         2018,
         "Matra (including Deutsch-Bonnet, René Bonnet) Motors",
         17
        ],
        [
         2018,
         "Mastretta Motors",
         19
        ],
        [
         2018,
         "Maserati Motors",
         13
        ],
        [
         2018,
         "Maruti Motors",
         20
        ],
        [
         2018,
         "Marlin Motors",
         12
        ],
        [
         2018,
         "Marcos Motors",
         15
        ],
        [
         2018,
         "Mahindra Motors",
         10
        ],
        [
         2018,
         "MG  Motors",
         3
        ],
        [
         2018,
         "Lynx Motors",
         7
        ],
        [
         2018,
         "LuAZ Motors",
         15
        ],
        [
         2018,
         "Lotus Motors",
         10
        ],
        [
         2018,
         "Lincoln Motors",
         11
        ],
        [
         2018,
         "Ligier Motors",
         4
        ],
        [
         2018,
         "Lexus Motors",
         14
        ],
        [
         2018,
         "Land Rover Motors",
         11
        ],
        [
         2018,
         "Lancia Motors",
         14
        ],
        [
         2018,
         "Lamborghini Motors",
         20
        ],
        [
         2018,
         "Lagonda  Motors",
         3
        ],
        [
         2018,
         "Lada Motors",
         9
        ],
        [
         2018,
         "LTI Motors",
         13
        ],
        [
         2018,
         "Koenigsegg Motors",
         16
        ],
        [
         2018,
         "Kindel Building",
         3
        ],
        [
         2018,
         "Kia Motors",
         11
        ],
        [
         2018,
         "KTM Motors",
         11
        ],
        [
         2018,
         "Jones Motor Company",
         2
        ],
        [
         2018,
         "Jensen Motors",
         16
        ],
        [
         2018,
         "Jennings Ford Automobile Dealership",
         3
        ],
        [
         2018,
         "Jeep Motors",
         18
        ],
        [
         2018,
         "Jaguar Motors",
         15
        ],
        [
         2018,
         "JPX Motors",
         13
        ],
        [
         2018,
         "Izh  Motors",
         3
        ],
        [
         2018,
         "Iveco Motors",
         10
        ],
        [
         2018,
         "Isuzu Motors",
         15
        ],
        [
         2018,
         "Isotta Fraschini Motors",
         14
        ],
        [
         2018,
         "Iso Motors",
         16
        ],
        [
         2018,
         "Isdera Motors",
         9
        ],
        [
         2018,
         "Invicta Motors",
         16
        ],
        [
         2018,
         "Innocenti Motors",
         16
        ],
        [
         2018,
         "Infiniti Motors",
         9
        ],
        [
         2018,
         "IFA (including Trabant, Wartburg, Barkas) Motors",
         13
        ],
        [
         2018,
         "Hyundai Motors",
         13
        ],
        [
         2018,
         "Hupmobile Building",
         2
        ],
        [
         2018,
         "Hummer Motors",
         14
        ],
        [
         2018,
         "Humber Motors",
         10
        ],
        [
         2018,
         "Hudson Motors",
         14
        ],
        [
         2018,
         "Howard Motor Company Building",
         2
        ],
        [
         2018,
         "Horch Motors",
         1
        ],
        [
         2018,
         "Honda Motors",
         14
        ],
        [
         2018,
         "Honda India Motors",
         15
        ],
        [
         2018,
         "Holden Motors",
         15
        ],
        [
         2018,
         "Hindustan Motors",
         9
        ],
        [
         2018,
         "Hillman Motors",
         11
        ],
        [
         2018,
         "Herald Motors",
         3
        ],
        [
         2018,
         "Hennessey Motors",
         6
        ],
        [
         2018,
         "Deccan Motors",
         2
        ],
        [
         2018,
         "Das Motors",
         1
        ],
        [
         2018,
         "Colman Automotive Building",
         2
        ],
        [
         2018,
         "Cass Motor Sales",
         3
        ],
        [
         2018,
         "Casa de cadillac",
         3
        ],
        [
         2018,
         "Cadillac Automobile Company Building",
         2
        ],
        [
         2018,
         "Buick Automobile Company Building",
         1
        ],
        [
         2018,
         "British Leyland Motors",
         2
        ],
        [
         2018,
         "Bristol Motors",
         2
        ],
        [
         2018,
         "Borgward (including Goliath and Lloyd) Motors",
         3
        ],
        [
         2018,
         "Bohn Motor Company Automobile Dealership",
         1
        ],
        [
         2018,
         "Blankinship Motor Company Building",
         3
        ],
        [
         2018,
         "Bitter Motors",
         1
        ],
        [
         2018,
         "Bentley Motors",
         2
        ],
        [
         2018,
         "BMW Motors",
         1
        ],
        [
         2018,
         "Auverland Motors",
         1
        ],
        [
         2018,
         "Autobianchi Motors",
         1
        ],
        [
         2018,
         "Auto-Union Motors",
         3
        ],
        [
         2018,
         "Audi Motors",
         3
        ],
        [
         2018,
         "Atlantic Motor Company",
         2
        ],
        [
         2019,
         "Zastava Motors",
         14
        ],
        [
         2019,
         "ZIL Motors",
         14
        ],
        [
         2019,
         "ZAZ Motors",
         13
        ],
        [
         2019,
         "Wolseley  Motors",
         10
        ],
        [
         2019,
         "Wiesmann Motors",
         11
        ],
        [
         2019,
         "Westfield Motors",
         18
        ],
        [
         2019,
         "Wanderer Motors",
         13
        ],
        [
         2019,
         "Volvo Motors",
         14
        ],
        [
         2019,
         "Volkswagen do Brasil Motors",
         18
        ],
        [
         2019,
         "Volkswagen South Africa Motors",
         15
        ],
        [
         2019,
         "Volkswagen Motors",
         18
        ],
        [
         2019,
         "Venturi Motors",
         7
        ],
        [
         2019,
         "Vauxhall Motors",
         14
        ],
        [
         2019,
         "UAZ Motors",
         13
        ],
        [
         2019,
         "Turner Motors",
         18
        ],
        [
         2019,
         "Toyota Motors",
         14
        ],
        [
         2019,
         "Toyota India Motors",
         15
        ],
        [
         2019,
         "Tornado Motors",
         16
        ],
        [
         2019,
         "Tesla Motors",
         18
        ],
        [
         2019,
         "Tazzari Motors",
         21
        ],
        [
         2019,
         "Tatra Motors",
         14
        ],
        [
         2019,
         "Tata Motors",
         12
        ],
        [
         2019,
         "Talbot  Motors",
         14
        ],
        [
         2019,
         "TVR Motors",
         13
        ],
        [
         2019,
         "Suzuki Motors",
         8
        ],
        [
         2019,
         "Sunbeam Motors",
         12
        ],
        [
         2019,
         "Subaru Motors",
         16
        ],
        [
         2019,
         "Studebaker Motors",
         16
        ],
        [
         2019,
         "Standard-Triumph Motors",
         15
        ],
        [
         2019,
         "Standard  Motors",
         18
        ],
        [
         2019,
         "SsangYong Motors",
         18
        ],
        [
         2019,
         "Spyker Motors",
         19
        ],
        [
         2019,
         "Smart Motors",
         16
        ],
        [
         2019,
         "Skoda Motors",
         9
        ],
        [
         2019,
         "Singer Motors",
         9
        ],
        [
         2019,
         "Simca do Brasil Motors",
         16
        ],
        [
         2019,
         "Simca Motors",
         14
        ],
        [
         2019,
         "Shelby SuperCars Motors",
         10
        ],
        [
         2019,
         "Seat Motors",
         18
        ],
        [
         2019,
         "Scion Motors",
         18
        ],
        [
         2019,
         "Saturn Motors",
         16
        ],
        [
         2019,
         "Santana Motors",
         12
        ],
        [
         2019,
         "Santa Matilde Motors",
         16
        ],
        [
         2019,
         "San Motors",
         19
        ],
        [
         2019,
         "Samsung Motors",
         11
        ],
        [
         2019,
         "Saleen Motors",
         11
        ],
        [
         2019,
         "Saab Motors",
         16
        ],
        [
         2019,
         "SAIC Motor Motors",
         15
        ],
        [
         2019,
         "Rolls-Royce Motors",
         11
        ],
        [
         2019,
         "Rivian Motors",
         17
        ],
        [
         2019,
         "Riley  Motors",
         11
        ],
        [
         2019,
         "Renault Motors",
         11
        ],
        [
         2019,
         "Reliant Motors",
         16
        ],
        [
         2019,
         "Ranger Motors",
         11
        ],
        [
         2019,
         "Ramani Motors",
         10
        ],
        [
         2019,
         "Puma Motors",
         15
        ],
        [
         2019,
         "Proton Motors",
         17
        ],
        [
         2019,
         "Premier Motors",
         12
        ],
        [
         2019,
         "Porsche Motors",
         7
        ],
        [
         2019,
         "Pontiac, Asüna Motors",
         8
        ],
        [
         2019,
         "Polestar Motors",
         19
        ],
        [
         2019,
         "Plymouth Motors",
         17
        ],
        [
         2019,
         "Piaggio Motors",
         12
        ],
        [
         2019,
         "Morris  Motors",
         15
        ],
        [
         2019,
         "Maybach  Motors",
         14
        ],
        [
         2019,
         "MG  Motors",
         14
        ],
        [
         2019,
         "Lagonda  Motors",
         16
        ],
        [
         2019,
         "Izh  Motors",
         20
        ],
        [
         2019,
         "Horch Motors",
         18
        ],
        [
         2019,
         "Herald Motors",
         1
        ],
        [
         2019,
         "Deccan Motors",
         15
        ],
        [
         2019,
         "Das Motors",
         13
        ],
        [
         2019,
         "DKW Motors",
         13
        ],
        [
         2019,
         "Cizeta-Moroder Motors",
         3
        ],
        [
         2019,
         "Citroën Motors",
         3
        ],
        [
         2019,
         "Chrysler Motors",
         3
        ],
        [
         2019,
         "Chrysler Europe Motors",
         2
        ],
        [
         2019,
         "Cadillac Motors",
         2
        ],
        [
         2019,
         "Bytom Motors",
         3
        ],
        [
         2019,
         "Buick Motors",
         3
        ],
        [
         2019,
         "Austin  Motors",
         13
        ],
        [
         2019,
         "Audi Motors",
         14
        ],
        [
         2020,
         "e.GO Mobile Motors",
         2
        ],
        [
         2020,
         "Zion Automobils",
         8
        ],
        [
         2020,
         "Plymouth Motors",
         3
        ],
        [
         2020,
         "Piaggio Motors",
         1
        ],
        [
         2020,
         "Peugeot Motors",
         1
        ],
        [
         2020,
         "Perodua Motors",
         3
        ],
        [
         2020,
         "Panther Motors",
         3
        ],
        [
         2020,
         "Panoz Motors",
         1
        ],
        [
         2020,
         "Panhard Motors",
         2
        ],
        [
         2020,
         "Pagani Motors",
         1
        ],
        [
         2020,
         "Packard Motors",
         2
        ],
        [
         2020,
         "PGO Motors",
         2
        ],
        [
         2020,
         "Opel Motors",
         3
        ],
        [
         2020,
         "Oltcit Motors",
         2
        ],
        [
         2020,
         "Noble Motors",
         1
        ],
        [
         2020,
         "Nissan Motors",
         3
        ],
        [
         2020,
         "Naza Motors",
         2
        ],
        [
         2020,
         "NSU Motors",
         1
        ],
        [
         2020,
         "Moskwitch Motors",
         2
        ],
        [
         2020,
         "Morgan Motors",
         2
        ],
        [
         2020,
         "Monteverdi Motors",
         3
        ],
        [
         2020,
         "Monica Motors",
         2
        ],
        [
         2020,
         "Mitsubishi Motors",
         2
        ],
        [
         2020,
         "Mini Motors",
         3
        ],
        [
         2020,
         "Micro Motors",
         2
        ],
        [
         2020,
         "Mia Motors",
         1
        ],
        [
         2020,
         "Mercury Motors",
         2
        ],
        [
         2020,
         "Mercedes-Benz (including Maybach) Motors",
         3
        ],
        [
         2020,
         "McLaren Motors",
         2
        ],
        [
         2020,
         "Mazzanti Motors",
         1
        ],
        [
         2020,
         "Mazda Motors",
         3
        ],
        [
         2020,
         "Mastretta Motors",
         3
        ],
        [
         2020,
         "Maruti Motors",
         1
        ],
        [
         2020,
         "Marlin Motors",
         1
        ],
        [
         2020,
         "Mahindra Motors",
         1
        ],
        [
         2020,
         "Lynx Motors",
         3
        ],
        [
         2020,
         "Lotus Motors",
         3
        ],
        [
         2020,
         "Lincoln Motors",
         3
        ],
        [
         2020,
         "Ligier Motors",
         2
        ],
        [
         2020,
         "Lexus Motors",
         2
        ],
        [
         2020,
         "Land Rover Motors",
         2
        ],
        [
         2020,
         "Lancia Motors",
         2
        ],
        [
         2020,
         "Lamborghini Motors",
         2
        ],
        [
         2020,
         "Lada Motors",
         1
        ],
        [
         2020,
         "Koenigsegg Motors",
         2
        ],
        [
         2020,
         "Kindel Building",
         14
        ],
        [
         2020,
         "Kia Motors",
         1
        ],
        [
         2020,
         "KTM Motors",
         3
        ],
        [
         2020,
         "Jones Motor Company",
         11
        ],
        [
         2020,
         "Jensen Motors",
         1
        ],
        [
         2020,
         "Jennings Ford Automobile Dealership",
         19
        ],
        [
         2020,
         "Jeep Motors",
         1
        ],
        [
         2020,
         "JPX Motors",
         1
        ],
        [
         2020,
         "Iveco Motors",
         3
        ],
        [
         2020,
         "Isuzu Motors",
         1
        ],
        [
         2020,
         "Isotta Fraschini Motors",
         2
        ],
        [
         2020,
         "Isdera Motors",
         3
        ],
        [
         2020,
         "Invicta Motors",
         3
        ],
        [
         2020,
         "Innocenti Motors",
         2
        ],
        [
         2020,
         "IFA (including Trabant, Wartburg, Barkas) Motors",
         3
        ],
        [
         2020,
         "Hupmobile Building",
         13
        ],
        [
         2020,
         "Hummer Motors",
         3
        ],
        [
         2020,
         "Humber Motors",
         1
        ],
        [
         2020,
         "Hudson Motors",
         3
        ],
        [
         2020,
         "Howard Motor Company Building",
         11
        ],
        [
         2020,
         "Honda India Motors",
         1
        ],
        [
         2020,
         "Holden Motors",
         1
        ],
        [
         2020,
         "Hindustan Motors",
         3
        ],
        [
         2020,
         "Hillman Motors",
         3
        ],
        [
         2020,
         "Herald Motors",
         21
        ],
        [
         2020,
         "Hennessey Motors",
         2
        ],
        [
         2020,
         "Heinkel Motors",
         3
        ],
        [
         2020,
         "H Street Playhouse",
         18
        ],
        [
         2020,
         "Gumpert Motors",
         1
        ],
        [
         2020,
         "Glas Motors",
         1
        ],
        [
         2020,
         "Gilbern Motors",
         1
        ],
        [
         2020,
         "Geo Motors",
         1
        ],
        [
         2020,
         "GTA Spano Motors",
         2
        ],
        [
         2020,
         "GAZ Motors",
         1
        ],
        [
         2020,
         "Freightliner Motors",
         3
        ],
        [
         2020,
         "Ford do Brasil Motors",
         3
        ],
        [
         2020,
         "Ford Europe Motors",
         3
        ],
        [
         2020,
         "Ford Australia Motors",
         2
        ],
        [
         2020,
         "Ford America Motors",
         1
        ],
        [
         2020,
         "Fisker, Karma Motors",
         3
        ],
        [
         2020,
         "Fiat do Brasil Motors",
         1
        ],
        [
         2020,
         "Ferrari Motors",
         2
        ],
        [
         2020,
         "Facel Vega Motors",
         2
        ],
        [
         2020,
         "FSO Motors",
         3
        ],
        [
         2020,
         "Elva Motors",
         1
        ],
        [
         2020,
         "Edsel Motors",
         1
        ],
        [
         2020,
         "Donkervoort Motors",
         3
        ],
        [
         2020,
         "Dodge Motors",
         1
        ],
        [
         2020,
         "Delahaye Motors",
         1
        ],
        [
         2020,
         "DeSoto Motors",
         1
        ],
        [
         2020,
         "DeLorean Motors",
         3
        ],
        [
         2020,
         "Datsun Motors",
         1
        ],
        [
         2020,
         "Daimler Motors",
         3
        ],
        [
         2020,
         "Daewoo, Saehan, Chevrolet Korea Motors",
         1
        ],
        [
         2020,
         "Dacia Motors",
         2
        ],
        [
         2020,
         "DAF Motors",
         3
        ],
        [
         2020,
         "Colman Automotive Building",
         10
        ],
        [
         2020,
         "Clemens Automobile Company Building",
         9
        ],
        [
         2020,
         "Claremore Auto Dealership",
         9
        ],
        [
         2020,
         "Cass Motor Sales",
         16
        ],
        [
         2020,
         "Casa de cadillac",
         9
        ],
        [
         2020,
         "Cadillac Automobile Company Building",
         17
        ],
        [
         2020,
         "Buick Automobile Company Building",
         13
        ],
        [
         2020,
         "Bohn Motor Company Automobile Dealership",
         17
        ],
        [
         2020,
         "Blankinship Motor Company Building",
         14
        ],
        [
         2020,
         "Atlantic Motor Company",
         13
        ],
        [
         2020,
         "2008 NRHP-listed",
         16
        ]
       ],
       "datasetInfos": [],
       "dbfsResultPath": null,
       "isJsonSchema": true,
       "metadata": {},
       "overflow": false,
       "plotOptions": {
        "customPlotOptions": {},
        "displayType": "table",
        "pivotAggregation": null,
        "pivotColumns": null,
        "xColumns": null,
        "yColumns": null
       },
       "removedWidgets": [],
       "schema": [
        {
         "metadata": "{}",
         "name": "Year",
         "type": "\"integer\""
        },
        {
         "metadata": "{}",
         "name": "BranchName",
         "type": "\"string\""
        },
        {
         "metadata": "{}",
         "name": "TotaL_Units",
         "type": "\"long\""
        }
       ],
       "type": "table"
      }
     },
     "output_type": "display_data"
    },
    {
     "output_type": "display_data",
     "data": {
      "text/plain": [
       "Databricks visualization. Run in Databricks to view."
      ]
     },
     "metadata": {
      "application/vnd.databricks.v1.subcommand+json": {
       "baseErrorDetails": null,
       "bindings": {},
       "collapsed": false,
       "command": "%python\n__backend_agg_display_orig = display\n__backend_agg_dfs = []\ndef __backend_agg_display_new(df):\n    __backend_agg_df_modules = [\"pandas.core.frame\", \"databricks.koalas.frame\", \"pyspark.sql.dataframe\", \"pyspark.pandas.frame\", \"pyspark.sql.connect.dataframe\"]\n    if (type(df).__module__ in __backend_agg_df_modules and type(df).__name__ == 'DataFrame') or isinstance(df, list):\n        __backend_agg_dfs.append(df)\n\ndisplay = __backend_agg_display_new\n\ndef __backend_agg_user_code_fn():\n    import base64\n    exec(base64.standard_b64decode(\"ZGlzcGxheShkZi5ncm91cEJ5KCJZZWFyIiwiQnJhbmNoTmFtZSIpLmFnZyhzdW0oJ1VuaXRzX1NvbGQnKS5hbGlhcygnVG90YUxfVW5pdHMnKSkuc29ydCgiWWVhciIsICJCcmFuY2hOYW1lIiwgYXNjZW5kaW5nPVsxLDBdKSk=\").decode())\n\ntry:\n    # run user code\n    __backend_agg_user_code_fn()\n\n    #reset display function\n    display = __backend_agg_display_orig\n\n    if len(__backend_agg_dfs) > 0:\n        # create a temp view\n        if type(__backend_agg_dfs[0]).__module__ == \"databricks.koalas.frame\":\n            # koalas dataframe\n            __backend_agg_dfs[0].to_spark().createOrReplaceTempView(\"DatabricksViewd4f3d66\")\n        elif type(__backend_agg_dfs[0]).__module__ == \"pandas.core.frame\" or isinstance(__backend_agg_dfs[0], list):\n            # pandas dataframe\n            spark.createDataFrame(__backend_agg_dfs[0]).createOrReplaceTempView(\"DatabricksViewd4f3d66\")\n        else:\n            __backend_agg_dfs[0].createOrReplaceTempView(\"DatabricksViewd4f3d66\")\n        #run backend agg\n        display(spark.sql(\"\"\"WITH q AS (select * from DatabricksViewd4f3d66) SELECT `TotaL_Units`,SUM(`TotaL_Units`) `column_8bd173f032` FROM q GROUP BY `TotaL_Units`\"\"\"))\n    else:\n        displayHTML(\"dataframe no longer exists. If you're using dataframe.display(), use display(dataframe) instead.\")\n\n\nfinally:\n    spark.sql(\"drop view if exists DatabricksViewd4f3d66\")\n    display = __backend_agg_display_orig\n    del __backend_agg_display_new\n    del __backend_agg_display_orig\n    del __backend_agg_dfs\n    del __backend_agg_user_code_fn\n\n",
       "commandTitle": "Total Units Chart",
       "commandType": "auto",
       "commandVersion": 0,
       "commentThread": [],
       "commentsVisible": false,
       "contentSha256Hex": null,
       "customPlotOptions": {
        "redashChart": [
         {
          "key": "type",
          "value": "CHART"
         },
         {
          "key": "options",
          "value": {
           "alignYAxesAtZero": true,
           "coefficient": 1,
           "columnConfigurationMap": {
            "x": {
             "column": "TotaL_Units",
             "id": "column_8bd173f029"
            },
            "y": [
             {
              "column": "TotaL_Units",
              "id": "column_8bd173f032",
              "transform": "SUM"
             }
            ]
           },
           "dateTimeFormat": "DD/MM/YYYY HH:mm",
           "direction": {
            "type": "counterclockwise"
           },
           "error_y": {
            "type": "data",
            "visible": true
           },
           "globalSeriesType": "area",
           "isAggregationOn": true,
           "legend": {
            "traceorder": "normal"
           },
           "missingValuesAsZero": true,
           "numberFormat": "0,0.[00000]",
           "percentFormat": "0[.]00%",
           "series": {
            "error_y": {
             "type": "data",
             "visible": true
            },
            "stacking": null
           },
           "seriesOptions": {
            "column_8bd173f032": {
             "type": "area",
             "yAxis": 0
            }
           },
           "showDataLabels": false,
           "sizemode": "diameter",
           "sortX": true,
           "sortY": true,
           "swappedAxes": false,
           "textFormat": "",
           "useAggregationsUi": true,
           "valuesOptions": {},
           "version": 2,
           "xAxis": {
            "labels": {
             "enabled": true
            },
            "type": "-"
           },
           "yAxis": [
            {
             "type": "-"
            },
            {
             "opposite": true,
             "type": "-"
            }
           ]
          }
         }
        ]
       },
       "datasetPreviewNameToCmdIdMap": {},
       "diffDeletes": [],
       "diffInserts": [],
       "displayType": "redashChart",
       "error": null,
       "errorDetails": null,
       "errorSummary": null,
       "errorTraceType": null,
       "finishTime": 0,
       "globalVars": {},
       "guid": "",
       "height": "auto",
       "hideCommandCode": false,
       "hideCommandResult": false,
       "iPythonMetadata": null,
       "inputWidgets": {},
       "isLockedInExamMode": false,
       "latestUser": "a user",
       "latestUserId": null,
       "listResultMetadata": null,
       "metadata": {},
       "nuid": "5dafc0f8-e400-45ca-a7c1-8f1c813b83d1",
       "origId": 0,
       "parentHierarchy": [],
       "pivotAggregation": null,
       "pivotColumns": null,
       "position": 9.0,
       "resultDbfsErrorMessage": null,
       "resultDbfsStatus": "INLINED_IN_TREE",
       "results": null,
       "showCommandTitle": false,
       "startTime": 0,
       "state": "input",
       "streamStates": {},
       "subcommandOptions": {
        "queryPlan": {
         "groups": [
          {
           "column": "TotaL_Units",
           "type": "column"
          }
         ],
         "selects": [
          {
           "column": "TotaL_Units",
           "type": "column"
          },
          {
           "alias": "column_8bd173f032",
           "args": [
            {
             "column": "TotaL_Units",
             "type": "column"
            }
           ],
           "function": "SUM",
           "type": "function"
          }
         ]
        }
       },
       "submitTime": 0,
       "subtype": "tableResultSubCmd.visualization",
       "tableResultIndex": 0,
       "tableResultSettingsMap": {},
       "useConsistentColors": false,
       "version": "CommandV1",
       "width": "auto",
       "workflows": [],
       "xColumns": null,
       "yColumns": null
      }
     },
     "output_type": "display_data"
    }
   ],
   "source": [
    "display(df.groupBy(\"Year\",\"BranchName\").agg(sum('Units_Sold').alias('TotaL_Units')).sort(\"Year\", \"BranchName\", ascending=[1,0]))"
   ]
  },
  {
   "cell_type": "markdown",
   "metadata": {
    "application/vnd.databricks.v1+cell": {
     "cellMetadata": {},
     "inputWidgets": {},
     "nuid": "51c4d9c6-fe01-4576-88b2-b403a4a77052",
     "showTitle": false,
     "tableResultSettingsMap": {},
     "title": ""
    }
   },
   "source": [
    "# Writing Data to Silver Layer"
   ]
  },
  {
   "cell_type": "code",
   "execution_count": 0,
   "metadata": {
    "application/vnd.databricks.v1+cell": {
     "cellMetadata": {
      "byteLimit": 2048000,
      "rowLimit": 10000
     },
     "inputWidgets": {},
     "nuid": "fb71420b-baa9-498f-9b6a-1995706265c7",
     "showTitle": false,
     "tableResultSettingsMap": {},
     "title": ""
    }
   },
   "outputs": [],
   "source": [
    "df.write.format(\"parquet\").mode(\"overwrite\").option(\"path\", \"abfss://silver@nishcarsdatalake.dfs.core.windows.net/car_sales\").save()"
   ]
  }
 ],
 "metadata": {
  "application/vnd.databricks.v1+notebook": {
   "computePreferences": null,
   "dashboards": [],
   "environmentMetadata": {
    "base_environment": "",
    "client": "1"
   },
   "language": "python",
   "notebookMetadata": {
    "pythonIndentUnit": 4
   },
   "notebookName": "silver_data",
   "widgets": {}
  },
  "language_info": {
   "name": "python"
  }
 },
 "nbformat": 4,
 "nbformat_minor": 0
}